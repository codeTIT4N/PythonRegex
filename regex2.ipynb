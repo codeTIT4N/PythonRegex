{
 "cells": [
  {
   "cell_type": "code",
   "execution_count": 1,
   "id": "understanding-label",
   "metadata": {},
   "outputs": [],
   "source": [
    "import re"
   ]
  },
  {
   "cell_type": "code",
   "execution_count": 2,
   "id": "polished-pollution",
   "metadata": {},
   "outputs": [],
   "source": [
    "sentence = \"I was born in the year 1996\""
   ]
  },
  {
   "cell_type": "code",
   "execution_count": 3,
   "id": "divine-future",
   "metadata": {},
   "outputs": [
    {
     "data": {
      "text/plain": [
       "<re.Match object; span=(0, 1), match='I'>"
      ]
     },
     "execution_count": 3,
     "metadata": {},
     "output_type": "execute_result"
    }
   ],
   "source": [
    "re.match(r\"[a-zA-Z]\",sentence)"
   ]
  },
  {
   "cell_type": "code",
   "execution_count": 7,
   "id": "secondary-mechanism",
   "metadata": {},
   "outputs": [],
   "source": [
    "sentence = \"1996 is the year I was born in\"\n",
    "re.match(r\"[a-zA-Z]+\",sentence)\n",
    "#no output because match only looks at the first pattern in whole sentence so we use search() function"
   ]
  },
  {
   "cell_type": "code",
   "execution_count": 8,
   "id": "lined-consideration",
   "metadata": {},
   "outputs": [
    {
     "data": {
      "text/plain": [
       "<re.Match object; span=(5, 8), match='was'>"
      ]
     },
     "execution_count": 8,
     "metadata": {},
     "output_type": "execute_result"
    }
   ],
   "source": [
    "sentence = \"1996 was the year I was born in\"\n",
    "re.search(r\"[a-zA-Z]+\",sentence)\n",
    "#we got was because this is the first pattern that matches the given regex\n",
    "#search does a global search and match does a local search"
   ]
  },
  {
   "cell_type": "code",
   "execution_count": 10,
   "id": "metropolitan-acting",
   "metadata": {},
   "outputs": [
    {
     "name": "stdout",
     "output_type": "stream",
     "text": [
      "match\n"
     ]
    }
   ],
   "source": [
    "#so we talked about *+? lets talk about 2 more\n",
    "#suppose we have a sentence and want to figure out if sentence starts/ends with a specific pattern or not\n",
    "#and based on that we can do something\n",
    "\n",
    "sentence = \"1996 is the year I was born in\"\n",
    "\n",
    "#Starts with\n",
    "if re.match(r\"^1996\",sentence):\n",
    "    print(\"match\")\n",
    "else:\n",
    "    print(\"no match\")\n",
    "#using re.match beacause it only looks at first pattern\n",
    "#this will check if this sentence starts with 1996 or not\n",
    "#so here ^ means starts with"
   ]
  },
  {
   "cell_type": "code",
   "execution_count": 11,
   "id": "living-smile",
   "metadata": {},
   "outputs": [
    {
     "name": "stdout",
     "output_type": "stream",
     "text": [
      "no match\n"
     ]
    }
   ],
   "source": [
    "sentence = \"is the year I was born in\"\n",
    "\n",
    "#Starts with\n",
    "if re.match(r\"^1996\",sentence):\n",
    "    print(\"match\")\n",
    "else:\n",
    "    print(\"no match\")"
   ]
  },
  {
   "cell_type": "code",
   "execution_count": 14,
   "id": "suspected-brighton",
   "metadata": {},
   "outputs": [
    {
     "name": "stdout",
     "output_type": "stream",
     "text": [
      "match\n"
     ]
    }
   ],
   "source": [
    "#Ends with\n",
    "sentence = \"1996 is the year I was born in\"\n",
    "\n",
    "#Starts with\n",
    "if re.search(r\"in$\",sentence):\n",
    "    print(\"match\")\n",
    "else:\n",
    "    print(\"no match\")\n",
    "    \n",
    "#whenever you are using ends with never use match use search because it does a global search\n",
    "#here $ means the end of the statement"
   ]
  },
  {
   "cell_type": "code",
   "execution_count": 15,
   "id": "right-routine",
   "metadata": {},
   "outputs": [
    {
     "name": "stdout",
     "output_type": "stream",
     "text": [
      "no match\n"
     ]
    }
   ],
   "source": [
    "#Ends with\n",
    "sentence = \"1996 is the year I was born\"\n",
    "\n",
    "#Starts with\n",
    "if re.search(r\"in$\",sentence):\n",
    "    print(\"match\")\n",
    "else:\n",
    "    print(\"no match\")\n",
    "    \n",
    "#whenever you are using ends with never use match use search because it does a global search\n",
    "#here $ means the end of the statement"
   ]
  }
 ],
 "metadata": {
  "kernelspec": {
   "display_name": "Python 3",
   "language": "python",
   "name": "python3"
  },
  "language_info": {
   "codemirror_mode": {
    "name": "ipython",
    "version": 3
   },
   "file_extension": ".py",
   "mimetype": "text/x-python",
   "name": "python",
   "nbconvert_exporter": "python",
   "pygments_lexer": "ipython3",
   "version": "3.8.6"
  }
 },
 "nbformat": 4,
 "nbformat_minor": 5
}
