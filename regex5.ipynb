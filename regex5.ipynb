{
 "cells": [
  {
   "cell_type": "code",
   "execution_count": 1,
   "id": "normal-accounting",
   "metadata": {},
   "outputs": [],
   "source": [
    "import re"
   ]
  },
  {
   "cell_type": "code",
   "execution_count": 2,
   "id": "absent-shield",
   "metadata": {},
   "outputs": [],
   "source": [
    "#in this tutorial we are going to clean a list of strings (preprocessing)\n",
    "#up till now we were cleaning single strings now we are going to clean list of different sentences"
   ]
  },
  {
   "cell_type": "code",
   "execution_count": 25,
   "id": "underlying-soldier",
   "metadata": {},
   "outputs": [],
   "source": [
    "X=[\"This is a wolf #scary\",\n",
    "  \"Welcome to the jungle #missing\",\n",
    "   \"11322 the number to know\",\n",
    "  \"Remember the name s - John\",\n",
    "  \"I      love          you\",\n",
    "  \" I love listening to music. \"]"
   ]
  },
  {
   "cell_type": "code",
   "execution_count": 26,
   "id": "reserved-whale",
   "metadata": {},
   "outputs": [
    {
     "name": "stdout",
     "output_type": "stream",
     "text": [
      "['This is wolf scary', 'Welcome to the jungle missing', 'the number to know', 'Remember the name John', 'I love you', 'love listening to music']\n"
     ]
    }
   ],
   "source": [
    "#now we are going to iterate through the list and clean all the impurities from the sentence\n",
    "for i in range(len(X)): #means same as range(0,len(X))\n",
    "    X[i]= re.sub(r\"\\W\",\" \",X[i])#removing all the non word characters\n",
    "    X[i]=re.sub(r\"\\d\",\" \",X[i]) #removing all the digits\n",
    "    X[i]=re.sub(r\"\\s+[a-z]\\s+\",\" \",X[i],flags=re.I) #removing the single characters even if its capital\n",
    "    X[i]=re.sub(r\"\\s+\",\" \",X[i]) #removing the extra spaces\n",
    "    X[i]=re.sub(r\"^\\s\",\"\",X[i]) #for sentences that might start with a space\n",
    "    X[i]=re.sub(r\"\\s$\",\"\",X[i]) #for sentences that might end with a space\n",
    "print(X)"
   ]
  }
 ],
 "metadata": {
  "kernelspec": {
   "display_name": "Python 3",
   "language": "python",
   "name": "python3"
  },
  "language_info": {
   "codemirror_mode": {
    "name": "ipython",
    "version": 3
   },
   "file_extension": ".py",
   "mimetype": "text/x-python",
   "name": "python",
   "nbconvert_exporter": "python",
   "pygments_lexer": "ipython3",
   "version": "3.8.6"
  }
 },
 "nbformat": 4,
 "nbformat_minor": 5
}
