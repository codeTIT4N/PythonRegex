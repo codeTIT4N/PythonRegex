{
 "cells": [
  {
   "cell_type": "code",
   "execution_count": 1,
   "id": "invisible-alabama",
   "metadata": {},
   "outputs": [],
   "source": [
    "import re"
   ]
  },
  {
   "cell_type": "code",
   "execution_count": 2,
   "id": "beneficial-ability",
   "metadata": {},
   "outputs": [],
   "source": [
    "sentence = \"I was born in the year 1996\"\n"
   ]
  },
  {
   "cell_type": "code",
   "execution_count": 3,
   "id": "organizational-leadership",
   "metadata": {},
   "outputs": [
    {
     "data": {
      "text/plain": [
       "<re.Match object; span=(0, 27), match='I was born in the year 1996'>"
      ]
     },
     "execution_count": 3,
     "metadata": {},
     "output_type": "execute_result"
    }
   ],
   "source": [
    "#to declate a pattern using regex you first have to type r\n",
    "re.match(r\".*\",sentence)\n"
   ]
  },
  {
   "cell_type": "code",
   "execution_count": 4,
   "id": "efficient-diana",
   "metadata": {},
   "outputs": [
    {
     "data": {
      "text/plain": [
       "<re.Match object; span=(0, 0), match=''>"
      ]
     },
     "execution_count": 4,
     "metadata": {},
     "output_type": "execute_result"
    }
   ],
   "source": [
    "#. means any character it can be a-z any digit or any ascii synbol like # @\n",
    "#* means 0 or more\n",
    "sentence = \"\"\n",
    "re.match(r\".*\",sentence)"
   ]
  },
  {
   "cell_type": "code",
   "execution_count": 6,
   "id": "prime-tobago",
   "metadata": {},
   "outputs": [
    {
     "data": {
      "text/plain": [
       "<re.Match object; span=(0, 27), match='I was born in the year 1996'>"
      ]
     },
     "execution_count": 6,
     "metadata": {},
     "output_type": "execute_result"
    }
   ],
   "source": [
    "sentence = \"I was born in the year 1996\"\n",
    "\n",
    "re.match(r\".+\",sentence)\n"
   ]
  },
  {
   "cell_type": "code",
   "execution_count": 7,
   "id": "according-newsletter",
   "metadata": {},
   "outputs": [],
   "source": [
    "sentence = \"\"\n",
    "\n",
    "re.match(r\".+\",sentence)\n",
    "#here we got nothing because + means 1 or more character"
   ]
  },
  {
   "cell_type": "code",
   "execution_count": 8,
   "id": "substantial-diana",
   "metadata": {},
   "outputs": [
    {
     "data": {
      "text/plain": [
       "<re.Match object; span=(0, 1), match='I'>"
      ]
     },
     "execution_count": 8,
     "metadata": {},
     "output_type": "execute_result"
    }
   ],
   "source": [
    "#finding specific patterns\n",
    "sentence = \"I was born in the year 1996\"\n",
    "#lets just match the word characters not the digits\n",
    "re.match(r\"[a-zA-Z]+\",sentence)\n",
    "#this will only return the first matching in the whole sentence"
   ]
  },
  {
   "cell_type": "code",
   "execution_count": 9,
   "id": "naughty-victorian",
   "metadata": {},
   "outputs": [
    {
     "data": {
      "text/plain": [
       "<re.Match object; span=(0, 1), match='a'>"
      ]
     },
     "execution_count": 9,
     "metadata": {},
     "output_type": "execute_result"
    }
   ],
   "source": [
    "#finding specific patterns\n",
    "sentence = \"a\"\n",
    "#lets just match the word characters not the digits\n",
    "re.match(r\"ab?\",sentence)\n",
    "#this means it will match an a then it will match 0 b's or 1 b"
   ]
  },
  {
   "cell_type": "code",
   "execution_count": 10,
   "id": "consistent-founder",
   "metadata": {},
   "outputs": [
    {
     "data": {
      "text/plain": [
       "<re.Match object; span=(0, 2), match='ab'>"
      ]
     },
     "execution_count": 10,
     "metadata": {},
     "output_type": "execute_result"
    }
   ],
   "source": [
    "#finding specific patterns\n",
    "sentence = \"ab\"\n",
    "#lets just match the word characters not the digits\n",
    "re.match(r\"ab?\",sentence)\n",
    "#this means it will match an a then it will match 0 b's or 1 b"
   ]
  },
  {
   "cell_type": "code",
   "execution_count": 11,
   "id": "julian-drilling",
   "metadata": {},
   "outputs": [
    {
     "data": {
      "text/plain": [
       "<re.Match object; span=(0, 2), match='ab'>"
      ]
     },
     "execution_count": 11,
     "metadata": {},
     "output_type": "execute_result"
    }
   ],
   "source": [
    "#finding specific patterns\n",
    "sentence = \"abb\"\n",
    "#lets just match the word characters not the digits\n",
    "re.match(r\"ab?\",sentence)\n",
    "#here we will get a match of ab because it is only checking for 0 or 1"
   ]
  },
  {
   "cell_type": "code",
   "execution_count": 12,
   "id": "through-program",
   "metadata": {},
   "outputs": [],
   "source": [
    "#finding specific patterns\n",
    "sentence = \"b\"\n",
    "#lets just match the word characters not the digits\n",
    "re.match(r\"ab?\",sentence)\n",
    "#here as a is fixed we will get no output"
   ]
  }
 ],
 "metadata": {
  "kernelspec": {
   "display_name": "Python 3",
   "language": "python",
   "name": "python3"
  },
  "language_info": {
   "codemirror_mode": {
    "name": "ipython",
    "version": 3
   },
   "file_extension": ".py",
   "mimetype": "text/x-python",
   "name": "python",
   "nbconvert_exporter": "python",
   "pygments_lexer": "ipython3",
   "version": "3.8.6"
  }
 },
 "nbformat": 4,
 "nbformat_minor": 5
}
