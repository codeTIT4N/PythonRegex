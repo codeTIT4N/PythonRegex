{
 "cells": [
  {
   "cell_type": "code",
   "execution_count": 1,
   "id": "metropolitan-schedule",
   "metadata": {},
   "outputs": [],
   "source": [
    "import re"
   ]
  },
  {
   "cell_type": "code",
   "execution_count": 18,
   "id": "ecological-glucose",
   "metadata": {},
   "outputs": [],
   "source": [
    "sentence1=\"Welcome to the year 2021\"\n",
    "sentence2=\"Just ~% +++--- arrived at @Jack's place. #fun\"\n",
    "sentence3=\"I                love          music\""
   ]
  },
  {
   "cell_type": "code",
   "execution_count": 4,
   "id": "reasonable-greene",
   "metadata": {},
   "outputs": [
    {
     "name": "stdout",
     "output_type": "stream",
     "text": [
      "Welcome to the year \n"
     ]
    }
   ],
   "source": [
    "#now we are going to modify these sentences (using sub()) but we are going to implement the different shorthand\n",
    "#character classes\n",
    "sentence1_modified=re.sub(r\"\\d\",\"\",sentence1)\n",
    "print(sentence1_modified)"
   ]
  },
  {
   "cell_type": "code",
   "execution_count": 19,
   "id": "enormous-civilian",
   "metadata": {},
   "outputs": [
    {
     "name": "stdout",
     "output_type": "stream",
     "text": [
      "Just   arrived at Jacks place fun\n"
     ]
    }
   ],
   "source": [
    "#whatever is inside [] form a single class and if we find any character inside sentence 2  which belong to this class\n",
    "#we are going to substitute that with empty string\n",
    "#using \\(escape character) which means the symbol after \\ should not be considered as special meaning e.g., range a-z\n",
    "sentence2_modified=re.sub(r\"[@%#~+=\\-\\.\\']\",\"\",sentence2)\n",
    "print(sentence2_modified)"
   ]
  },
  {
   "cell_type": "code",
   "execution_count": 20,
   "id": "incorporated-alexandria",
   "metadata": {},
   "outputs": [
    {
     "name": "stdout",
     "output_type": "stream",
     "text": [
      "     ~% +++---            @    '       . #   \n"
     ]
    }
   ],
   "source": [
    "sentence2_modified=re.sub(r\"\\w\",\" \",sentence2) #a-zA-Z0-9 (this is what \\w means)\n",
    "print(sentence2_modified)\n",
    "#to remove all alphanumeric characters from string"
   ]
  },
  {
   "cell_type": "code",
   "execution_count": 21,
   "id": "hungry-documentary",
   "metadata": {},
   "outputs": [
    {
     "name": "stdout",
     "output_type": "stream",
     "text": [
      "Just           arrived at  Jack s place   fun\n"
     ]
    }
   ],
   "source": [
    "#now to do opposite of this pass W in place of w\n",
    "sentence2_modified=re.sub(r\"\\W\",\" \",sentence2) #not in a-zA-Z0-9 (this is what \\W means)\n",
    "print(sentence2_modified)"
   ]
  },
  {
   "cell_type": "code",
   "execution_count": 22,
   "id": "worthy-executive",
   "metadata": {},
   "outputs": [
    {
     "name": "stdout",
     "output_type": "stream",
     "text": [
      "Just arrived at Jack s place fun\n"
     ]
    }
   ],
   "source": [
    "#to remove spaces\n",
    "sentence2_modified=re.sub(r\"\\s+\",\" \",sentence2_modified) #\\s means single space \n",
    "print(sentence2_modified)\n",
    "#this means replace sequence of 1 or more spaces with a single space"
   ]
  },
  {
   "cell_type": "code",
   "execution_count": 23,
   "id": "atmospheric-islam",
   "metadata": {},
   "outputs": [
    {
     "name": "stdout",
     "output_type": "stream",
     "text": [
      "Just arrived at Jack place fun\n"
     ]
    }
   ],
   "source": [
    "#now you can see the character s in above case has no meaning since it has been removed from sentence now we will\n",
    "#remove this character when we will be doing text classification or summerization we have to remove loner characters\n",
    "#like this because they just don't mean anything and hamper our task\n",
    "\n",
    "#now as we can see before s we have a space and another space after that too\n",
    "sentence2_modified=re.sub(r\"\\s+[a-zA-Z]\\s+\",\" \",sentence2_modified) #we use extra +'s here just because it's easy to\n",
    "                                                                    #understand\n",
    "print(sentence2_modified)\n",
    "#although this sentence is making little to no sense we want sentences like these when doing text classification\n",
    "#because these are simple sentences they don't have any impurities"
   ]
  },
  {
   "cell_type": "code",
   "execution_count": 28,
   "id": "illegal-privilege",
   "metadata": {},
   "outputs": [
    {
     "name": "stdout",
     "output_type": "stream",
     "text": [
      "I                love          you\n",
      "I               hate         you\n"
     ]
    }
   ],
   "source": [
    "sentence3=\"I                love          you\"\n",
    "sentence3_modified=re.sub(r\"\\slove\\s\",\"hate\",sentence3)\n",
    "print(sentence3)\n",
    "print(sentence3_modified)\n",
    "#now as you can see i m not using extra +'s here so it has only removed single space just before and after love"
   ]
  },
  {
   "cell_type": "code",
   "execution_count": 30,
   "id": "classical-cricket",
   "metadata": {},
   "outputs": [
    {
     "name": "stdout",
     "output_type": "stream",
     "text": [
      "I                love          you\n",
      "I hate you\n"
     ]
    }
   ],
   "source": [
    "#what if we use extra +'s\n",
    "sentence3=\"I                love          you\"\n",
    "sentence3_modified=re.sub(r\"\\s+love\\s+\",\" hate \",sentence3) #note spaces before and after hate\n",
    "print(sentence3)\n",
    "print(sentence3_modified)"
   ]
  }
 ],
 "metadata": {
  "kernelspec": {
   "display_name": "Python 3",
   "language": "python",
   "name": "python3"
  },
  "language_info": {
   "codemirror_mode": {
    "name": "ipython",
    "version": 3
   },
   "file_extension": ".py",
   "mimetype": "text/x-python",
   "name": "python",
   "nbconvert_exporter": "python",
   "pygments_lexer": "ipython3",
   "version": "3.8.6"
  }
 },
 "nbformat": 4,
 "nbformat_minor": 5
}
