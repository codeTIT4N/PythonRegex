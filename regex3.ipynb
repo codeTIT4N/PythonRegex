{
 "cells": [
  {
   "cell_type": "code",
   "execution_count": 1,
   "id": "limiting-miracle",
   "metadata": {},
   "outputs": [],
   "source": [
    "import re"
   ]
  },
  {
   "cell_type": "code",
   "execution_count": 2,
   "id": "synthetic-petroleum",
   "metadata": {},
   "outputs": [],
   "source": [
    "sentence = \"I love music\""
   ]
  },
  {
   "cell_type": "code",
   "execution_count": 3,
   "id": "fossil-butter",
   "metadata": {},
   "outputs": [
    {
     "name": "stdout",
     "output_type": "stream",
     "text": [
      "I love comedy\n"
     ]
    }
   ],
   "source": [
    "#lets substitute music with comedy\n",
    "print(re.sub(r\"music\",\"comedy\",sentence))"
   ]
  },
  {
   "cell_type": "code",
   "execution_count": 4,
   "id": "bored-walnut",
   "metadata": {},
   "outputs": [
    {
     "name": "stdout",
     "output_type": "stream",
     "text": [
      "I love comedy comedy\n"
     ]
    }
   ],
   "source": [
    "sentence = \"I love music music\"\n",
    "\n",
    "print(re.sub(r\"music\",\"comedy\",sentence))\n",
    "#so here you can see this sub function does a global search and global replace"
   ]
  },
  {
   "cell_type": "code",
   "execution_count": 5,
   "id": "wrong-offense",
   "metadata": {},
   "outputs": [
    {
     "name": "stdout",
     "output_type": "stream",
     "text": [
      "I 0000 00000 00000\n"
     ]
    }
   ],
   "source": [
    "sentence = \"I love music music\"\n",
    "\n",
    "print(re.sub(r\"[a-z]\",\"0\",sentence))\n",
    "#this means whenever you find a word character replace with 0\n",
    "#but I do not become 0 because it is capital"
   ]
  },
  {
   "cell_type": "code",
   "execution_count": 8,
   "id": "surprised-feature",
   "metadata": {},
   "outputs": [
    {
     "name": "stdout",
     "output_type": "stream",
     "text": [
      "0 0000 00000 00000\n"
     ]
    }
   ],
   "source": [
    "#doing same thing as above with a different method\n",
    "sentence = \"I love music music\"\n",
    "\n",
    "print(re.sub(r\"[a-z]\",\"0\",sentence,flags=re.I))\n",
    "#I means case incensitive"
   ]
  },
  {
   "cell_type": "code",
   "execution_count": 10,
   "id": "determined-reporter",
   "metadata": {},
   "outputs": [
    {
     "name": "stdout",
     "output_type": "stream",
     "text": [
      "0 0000 music music\n"
     ]
    }
   ],
   "source": [
    "#there is another optional argument count which means how many characters you want to search and replace\n",
    "sentence = \"I love music music\"\n",
    "\n",
    "print(re.sub(r\"[a-z]\",\"0\",sentence,5,flags=re.I))\n",
    "#as you can see only first 5 will become 0 as specified in count"
   ]
  }
 ],
 "metadata": {
  "kernelspec": {
   "display_name": "Python 3",
   "language": "python",
   "name": "python3"
  },
  "language_info": {
   "codemirror_mode": {
    "name": "ipython",
    "version": 3
   },
   "file_extension": ".py",
   "mimetype": "text/x-python",
   "name": "python",
   "nbconvert_exporter": "python",
   "pygments_lexer": "ipython3",
   "version": "3.8.6"
  }
 },
 "nbformat": 4,
 "nbformat_minor": 5
}
